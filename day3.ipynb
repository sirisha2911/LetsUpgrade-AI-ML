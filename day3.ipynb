{
 "cells": [
  {
   "cell_type": "code",
   "execution_count": 1,
   "metadata": {},
   "outputs": [
    {
     "name": "stdout",
     "output_type": "stream",
     "text": [
      "Subtraction of two complex numbers :  (6+14j)\n"
     ]
    }
   ],
   "source": [
    "print(\"Subtraction of two complex numbers : \",(10+7j)-(4-7j))"
   ]
  },
  {
   "cell_type": "code",
   "execution_count": 2,
   "metadata": {},
   "outputs": [
    {
     "name": "stdout",
     "output_type": "stream",
     "text": [
      "2.0\n"
     ]
    }
   ],
   "source": [
    "print(16**(1/4))"
   ]
  },
  {
   "cell_type": "code",
   "execution_count": 10,
   "metadata": {},
   "outputs": [
    {
     "name": "stdout",
     "output_type": "stream",
     "text": [
      "Enter x value:12\n",
      "Enter y value:13\n",
      "swapped x value: 13\n",
      "swapped y value: 12\n"
     ]
    }
   ],
   "source": [
    "x=int(input(\"Enter x value:\"))\n",
    "y=int(input(\"Enter y value:\"))\n",
    "\n",
    "temp=x\n",
    "x=y\n",
    "y=temp\n",
    "\n",
    "print(\"swapped x value:\",x)\n",
    "print(\"swapped y value:\",y)"
   ]
  },
  {
   "cell_type": "code",
   "execution_count": 8,
   "metadata": {},
   "outputs": [
    {
     "name": "stdout",
     "output_type": "stream",
     "text": [
      "Enter x value:20\n",
      "Enter y value:15\n",
      "swapped x value: 15\n",
      "swapped y value: 20\n"
     ]
    }
   ],
   "source": [
    "x=int(input(\"Enter x value:\"))\n",
    "y=int(input(\"Enter y value:\"))\n",
    "\n",
    "x=x+y\n",
    "y=x-y\n",
    "x=x-y\n",
    "\n",
    "print(\"swapped x value:\",x)\n",
    "print(\"swapped y value:\",y)"
   ]
  },
  {
   "cell_type": "code",
   "execution_count": null,
   "metadata": {},
   "outputs": [],
   "source": [
    "\n",
    "celsius = float(input('Enter temperature in celsius: '))\n",
    "\n",
    "fahrenheit = 1.8 * celsius + 32\n",
    "kelvin = 273.15 + celsius\n",
    "\n",
    "print('%0.3f Celsius = %0.3f Fahrenheit.' % (celsius, fahrenheit))\n",
    "print('%0.3f Celsius = %0.3f Kelvin.' % (celsius, kelvin))"
   ]
  },
  {
   "cell_type": "markdown",
   "metadata": {},
   "source": [
    "\n"
   ]
  },
  {
   "cell_type": "code",
   "execution_count": 10,
   "metadata": {},
   "outputs": [
    {
     "name": "stdout",
     "output_type": "stream",
     "text": [
      "<class 'list'>\n",
      "<class 'dict'>\n",
      "<class 'set'>\n",
      "<class 'tuple'>\n",
      "<class 'int'>\n",
      "<class 'float'>\n",
      "<class 'str'>\n",
      "<class 'range'>\n",
      "<class 'complex'>\n",
      "<class 'bool'>\n"
     ]
    }
   ],
   "source": [
    "\n",
    "numbers_list = [1, 2]\n",
    "print(type(numbers_list))\n",
    "\n",
    "numbers_dict = {1: 'one', 2: 'two'}\n",
    "print(type(numbers_dict))\n",
    "\n",
    "numbers_set ={1,2,3,4,5}\n",
    "print(type(numbers_set))\n",
    "\n",
    "numbers_tuple =(\"a\",\"b\",1)\n",
    "print(type(numbers_tuple))\n",
    "\n",
    "numbers_Int =1 \n",
    "print(type(numbers_Int))\n",
    "\n",
    "numbers_Float =1.0\n",
    "print(type(numbers_Float))\n",
    "\n",
    "str_name = \"Hello World\"\n",
    "print(type(str_name))\n",
    "\n",
    "numbers_range =range(6)\n",
    "print(type(numbers_range))\n",
    "\n",
    "numbers_complex = 1j\n",
    "print(type(numbers_complex))\n",
    "\n",
    "boolean_value =True\n",
    "print(type(boolean_value))\n"
   ]
  },
  {
   "cell_type": "markdown",
   "metadata": {},
   "source": [
    "1.Have to create a login for GitHub.\n",
    "2.Create a public repository with the name LetsUpgrade AI/ML.\n",
    "3.Daywise URLs has to be uploaded in the assignment submission forms."
   ]
  }
 ],
 "metadata": {
  "kernelspec": {
   "display_name": "Python 3",
   "language": "python",
   "name": "python3"
  },
  "language_info": {
   "codemirror_mode": {
    "name": "ipython",
    "version": 3
   },
   "file_extension": ".py",
   "mimetype": "text/x-python",
   "name": "python",
   "nbconvert_exporter": "python",
   "pygments_lexer": "ipython3",
   "version": "3.7.6"
  }
 },
 "nbformat": 4,
 "nbformat_minor": 4
}
