{
 "cells": [
  {
   "cell_type": "code",
   "execution_count": 1,
   "metadata": {},
   "outputs": [
    {
     "name": "stdout",
     "output_type": "stream",
     "text": [
      "3\n",
      "5\n",
      "7\n",
      "11\n",
      "13\n",
      "17\n",
      "19\n"
     ]
    }
   ],
   "source": [
    " for num in range(20):  \n",
    "    if num > 1 and num%2!=0:  \n",
    "        for i in range(2,num):  \n",
    "            if (num % i) == 0:  \n",
    "                break  \n",
    "        else:  \n",
    "            print(num)"
   ]
  },
  {
   "cell_type": "code",
   "execution_count": 4,
   "metadata": {},
   "outputs": [
    {
     "name": "stdout",
     "output_type": "stream",
     "text": [
      "Hello, and welcome to my world.\n",
      "hello, and welcome to my world.\n",
      "hello, and welcome to my world.\n",
      "4\n",
      "True\n",
      "hello, and welcome to my world.\n",
      "19\n",
      "True\n",
      "False\n",
      "hello, and welcome to my world.\n",
      "HELLO, AND WELCOME TO MY WORLD.\n",
      "hella, and welcame ta my warld.\n",
      "False\n",
      "False\n",
      "False\n"
     ]
    }
   ],
   "source": [
    "str_value=\"hello, and welcome to my world.\"\n",
    "x=str_value.capitalize()\n",
    "print(x)\n",
    "y=str_value.casefold()\n",
    "print(y)\n",
    "z=str_value.center(10)\n",
    "print(z)\n",
    "a=str_value.count(\"o\")\n",
    "print(a)\n",
    "b=str_value.endswith(\"world.\")\n",
    "print(b)\n",
    "c=str_value.find(\"a\")\n",
    "print(y)\n",
    "d=str_value.index(\"to\")\n",
    "print(d)\n",
    "e=str_value.islower()\n",
    "print(e)\n",
    "f=str_value.isupper()\n",
    "print(f)\n",
    "g=str_value.lower()\n",
    "print(g)\n",
    "h=str_value.upper()\n",
    "print(h)\n",
    "i=str_value.replace(\"o\",\"a\")\n",
    "print(i)\n",
    "j=str_value.isnumeric()\n",
    "print(j)\n",
    "k=str_value.istitle()\n",
    "print(k)\n",
    "l=str_value.isspace()\n",
    "print(l)\n"
   ]
  },
  {
   "cell_type": "code",
   "execution_count": 1,
   "metadata": {},
   "outputs": [
    {
     "name": "stdout",
     "output_type": "stream",
     "text": [
      "Enter the string:sirisha\n",
      "None of them\n"
     ]
    }
   ],
   "source": [
    "       \n",
    "my_str = input(\"Enter the string:\")\n",
    "\n",
    "# make it suitable for caseless comparison\n",
    "my_str = my_str.casefold()\n",
    "\n",
    "# reverse the string\n",
    "rev_str = reversed(my_str)\n",
    "\n",
    "# check if the string is equal to its reverse\n",
    "if list(my_str) == list(rev_str):\n",
    "    print(\"The string is a palindrome.\")\n",
    "elif(sorted(my_str)==sorted(rev_str)):\n",
    "      print(\"The strings are anagrams.\")\n",
    "else:\n",
    "      print(\"None of them\")\n",
    "\n",
    "        "
   ]
  },
  {
   "cell_type": "code",
   "execution_count": 11,
   "metadata": {},
   "outputs": [
    {
     "name": "stdout",
     "output_type": "stream",
     "text": [
      "Original String : Dr. Darshan Ingle @AI-ML Trainer\n",
      "Resultant list is : dr darshan ingle aiml trainer\n"
     ]
    }
   ],
   "source": [
    "\n",
    "add_chars = ['.', '@', '-'] \n",
    "   \n",
    "value_string = \"Dr. Darshan Ingle @AI-ML Trainer\"\n",
    "   \n",
    "print (\"Original String : \" + value_string) \n",
    "  \n",
    "for i in add_chars : \n",
    "    value_string = value_string.replace(i, '')\n",
    "    value_str = value_string.lower()\n",
    "    \n",
    "print (\"Resultant list is : \" + str(value_str)) "
   ]
  }
 ],
 "metadata": {
  "kernelspec": {
   "display_name": "Python 3",
   "language": "python",
   "name": "python3"
  },
  "language_info": {
   "codemirror_mode": {
    "name": "ipython",
    "version": 3
   },
   "file_extension": ".py",
   "mimetype": "text/x-python",
   "name": "python",
   "nbconvert_exporter": "python",
   "pygments_lexer": "ipython3",
   "version": "3.7.6"
  }
 },
 "nbformat": 4,
 "nbformat_minor": 4
}
