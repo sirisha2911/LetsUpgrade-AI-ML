{
 "cells": [
  {
   "cell_type": "code",
   "execution_count": 11,
   "metadata": {},
   "outputs": [
    {
     "name": "stdout",
     "output_type": "stream",
     "text": [
      "(4+7j)\n",
      "(-2-3j)\n",
      "(-7+11j)\n",
      "(0.3823529411764706+0.029411764705882346j)\n",
      "The real part of complex number is : 8.0\n",
      "The imaginary part of complex number is : 9.0\n"
     ]
    }
   ],
   "source": [
    "x=1+2j\n",
    "y=3+5j\n",
    "print(x+y)\n",
    "print(x-y)\n",
    "print(x*y)\n",
    "print(x/y)\n",
    "\n",
    "#floor division and modulo cannot perform on complex numbers in python3\n",
    "\n",
    "import cmath \n",
    "  \n",
    "# Initializing real numbers \n",
    "a = 8\n",
    "b = 9\n",
    "  \n",
    "# converting a and b into complex number \n",
    "c = complex(a,b); \n",
    "  \n",
    "# printing real and imaginary part of complex number \n",
    "print (\"The real part of complex number is : \",end=\"\") \n",
    "print (c.real) \n",
    "  \n",
    "print (\"The imaginary part of complex number is : \",end=\"\") \n",
    "print (c.imag) "
   ]
  },
  {
   "cell_type": "markdown",
   "metadata": {},
   "source": [
    "range is the sequence of numbers and it can be represented in different ways \n",
    "\n",
    "for e.g.\n",
    "\n",
    "range(start, stop, step)--start value is the value given and the end value will be stop value -1 and step is the increment value.\n",
    "range(start,stop) -- start value is the value given and the end value will be stop value -1.\n",
    "range(value)--by default it starts from 0 and till value-1."
   ]
  },
  {
   "cell_type": "code",
   "execution_count": 13,
   "metadata": {},
   "outputs": [
    {
     "name": "stdout",
     "output_type": "stream",
     "text": [
      "0\n",
      "2\n",
      "4\n",
      "6\n",
      "8\n",
      "10\n"
     ]
    }
   ],
   "source": [
    "x = range(6)\n",
    "for item in x: \n",
    "    print(item*2)"
   ]
  },
  {
   "cell_type": "code",
   "execution_count": 18,
   "metadata": {},
   "outputs": [
    {
     "name": "stdout",
     "output_type": "stream",
     "text": [
      "Enter the number x:50\n",
      "Enter the number y:27\n",
      "1.8518518518518519\n"
     ]
    }
   ],
   "source": [
    "x=int(input(\"Enter the number x:\"))\n",
    "y=int(input(\"Enter the number y:\"))\n",
    "if (x-y)>25:\n",
    "    print(x*y)\n",
    "else:\n",
    "    print(x/y)\n",
    "    "
   ]
  },
  {
   "cell_type": "code",
   "execution_count": 32,
   "metadata": {},
   "outputs": [
    {
     "name": "stdout",
     "output_type": "stream",
     "text": [
      "1.1622776601683795\n",
      "1.4641016151377544\n",
      "1.7416573867739413\n",
      "2.0\n",
      "2.2426406871192848\n"
     ]
    }
   ],
   "source": [
    "import math\n",
    "x=range(10,20)\n",
    "for item in x:\n",
    "    if (item%2==0):\n",
    "        print(math.sqrt(item)-2)\n",
    "        \n",
    "    "
   ]
  },
  {
   "cell_type": "code",
   "execution_count": 33,
   "metadata": {},
   "outputs": [
    {
     "name": "stdout",
     "output_type": "stream",
     "text": [
      "8\n"
     ]
    }
   ],
   "source": [
    "\n",
    "x=range(0,10)\n",
    "for item in x:\n",
    "    if (item>7):\n",
    "        if(item%2==0):\n",
    "            print(item)"
   ]
  }
 ],
 "metadata": {
  "kernelspec": {
   "display_name": "Python 3",
   "language": "python",
   "name": "python3"
  },
  "language_info": {
   "codemirror_mode": {
    "name": "ipython",
    "version": 3
   },
   "file_extension": ".py",
   "mimetype": "text/x-python",
   "name": "python",
   "nbconvert_exporter": "python",
   "pygments_lexer": "ipython3",
   "version": "3.7.6"
  }
 },
 "nbformat": 4,
 "nbformat_minor": 4
}
